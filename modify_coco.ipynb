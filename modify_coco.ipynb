{
 "cells": [
  {
   "cell_type": "markdown",
   "metadata": {},
   "source": [
    "Modify COCO Dataset"
   ]
  },
  {
   "cell_type": "code",
   "execution_count": 7,
   "metadata": {},
   "outputs": [],
   "source": [
    "import json\n",
    "import os"
   ]
  },
  {
   "cell_type": "code",
   "execution_count": null,
   "metadata": {},
   "outputs": [
    {
     "name": "stdout",
     "output_type": "stream",
     "text": [
      "238 28\n",
      "238 104\n",
      "238 91\n"
     ]
    }
   ],
   "source": [
    "# COCO Datasets\n",
    "train_json_5 = open('instances_default_5.json') # task_2\n",
    "train_json_5 = json.load(train_json_5)\n",
    "train_json_6 = open('instances_default_6.json') # task_3\n",
    "train_json_6 = json.load(train_json_6)\n",
    "train_json_7 = open('instances_default_7.json') # task_4\n",
    "train_json_7 = json.load(train_json_7)\n",
    "\n",
    "print(len(train_json_5['images']), len(train_json_5['annotations']))\n",
    "print(len(train_json_6['images']), len(train_json_6['annotations']))\n",
    "print(len(train_json_7['images']), len(train_json_7['annotations']))"
   ]
  },
  {
   "cell_type": "code",
   "execution_count": 5,
   "metadata": {},
   "outputs": [
    {
     "data": {
      "text/plain": [
       "{'id': 1,\n",
       " 'width': 1024,\n",
       " 'height': 1024,\n",
       " 'file_name': 'task_2/1455826318258897_left.jpg',\n",
       " 'license': 0,\n",
       " 'flickr_url': '',\n",
       " 'coco_url': '',\n",
       " 'date_captured': 0}"
      ]
     },
     "execution_count": 5,
     "metadata": {},
     "output_type": "execute_result"
    }
   ],
   "source": [
    "train_json_5['images'][0]"
   ]
  },
  {
   "cell_type": "code",
   "execution_count": 6,
   "metadata": {},
   "outputs": [
    {
     "data": {
      "text/plain": [
       "{'id': 1,\n",
       " 'image_id': 2,\n",
       " 'category_id': 1,\n",
       " 'segmentation': [],\n",
       " 'area': 66182.62000000001,\n",
       " 'bbox': [149.61, 415.65, 305.2, 216.85],\n",
       " 'iscrowd': 0,\n",
       " 'attributes': {'building_quality': 'high',\n",
       "  'building_type': 'commercial',\n",
       "  'has_soft_story': 'no',\n",
       "  'num_of_stories': 1.0,\n",
       "  'overhang_type': 'non-structurel',\n",
       "  'occluded': False,\n",
       "  'rotation': 0.0}}"
      ]
     },
     "execution_count": 6,
     "metadata": {},
     "output_type": "execute_result"
    }
   ],
   "source": [
    "train_json_5['annotations'][0]"
   ]
  },
  {
   "cell_type": "code",
   "execution_count": null,
   "metadata": {},
   "outputs": [],
   "source": [
    "# Remove 'task#/' from file_name\n",
    "# Filter Images without Annotations\n",
    "\n",
    "coco_datasets = [\n",
    "    'instances_default_5.json',\n",
    "    'instances_default_6.json',\n",
    "    'instances_default_7.json'\n",
    "]\n",
    "\n",
    "for file in coco_datasets:\n",
    "\n",
    "    with open(file, 'r') as f:\n",
    "        coco_data = json.load(f)\n",
    "\n",
    "    if 'instances_default_5.json' in file:\n",
    "        remove_key = 'task_2/'\n",
    "    elif 'instances_default_6.json' in file:\n",
    "        remove_key = 'task_3/'\n",
    "    elif 'instances_default_7.json' in file:\n",
    "        remove_key = 'task_4/'\n",
    "\n",
    "    # Remove 'task' from file_name\n",
    "    for img in coco_data['images']:\n",
    "        img['file_name'] = img['file_name'].replace(remove_key, '')\n",
    "\n",
    "    # Find Img ID without Annotations\n",
    "    annotated_image_ids = {ann['image_id'] for ann in coco_data['annotations']}\n",
    "\n",
    "    # Filter Imgs without Annotations\n",
    "    coco_data['images'] = [img for img in coco_data['images'] if img['id'] in annotated_image_ids]\n",
    "\n",
    "    # Save Datasets\n",
    "    new_json_file = file.replace('.json', '_modified.json')\n",
    "    with open(new_json_file, 'w') as f:\n",
    "        json.dump(coco_data, f, indent=4)"
   ]
  },
  {
   "cell_type": "code",
   "execution_count": null,
   "metadata": {},
   "outputs": [],
   "source": [
    "with open('coco/instances_default_5_modified.json') as f:\n",
    "    coco_data = json.load(f)\n",
    "\n",
    "image_ids = [image['id'] for image in coco_data['images']]\n",
    "annotation_ids = [annotation['image_id'] for annotation in coco_data['annotations']]\n",
    "\n",
    "for image in coco_data['images']:\n",
    "    image_id = image['id']\n",
    "    annotations_for_image = [ann for ann in coco_data['annotations'] if ann['image_id'] == image_id]\n",
    "    print(f\"Image ID: {image_id}, Number of annotations: {len(annotations_for_image)}\")"
   ]
  }
 ],
 "metadata": {
  "kernelspec": {
   "display_name": "Python 3",
   "language": "python",
   "name": "python3"
  },
  "language_info": {
   "codemirror_mode": {
    "name": "ipython",
    "version": 3
   },
   "file_extension": ".py",
   "mimetype": "text/x-python",
   "name": "python",
   "nbconvert_exporter": "python",
   "pygments_lexer": "ipython3",
   "version": "3.12.0"
  }
 },
 "nbformat": 4,
 "nbformat_minor": 2
}
